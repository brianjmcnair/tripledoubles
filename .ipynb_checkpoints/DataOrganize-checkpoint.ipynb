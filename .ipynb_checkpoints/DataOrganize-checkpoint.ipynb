{
 "cells": [
  {
   "cell_type": "code",
   "execution_count": 1,
   "metadata": {},
   "outputs": [],
   "source": [
    "import pandas as pd\n",
    "import json"
   ]
  },
  {
   "cell_type": "code",
   "execution_count": 3,
   "metadata": {},
   "outputs": [
    {
     "data": {
      "text/html": [
       "<div>\n",
       "<style scoped>\n",
       "    .dataframe tbody tr th:only-of-type {\n",
       "        vertical-align: middle;\n",
       "    }\n",
       "\n",
       "    .dataframe tbody tr th {\n",
       "        vertical-align: top;\n",
       "    }\n",
       "\n",
       "    .dataframe thead th {\n",
       "        text-align: right;\n",
       "    }\n",
       "</style>\n",
       "<table border=\"1\" class=\"dataframe\">\n",
       "  <thead>\n",
       "    <tr style=\"text-align: right;\">\n",
       "      <th></th>\n",
       "      <th>Player</th>\n",
       "      <th>PTS</th>\n",
       "      <th>STL</th>\n",
       "      <th>BLK</th>\n",
       "      <th>AST</th>\n",
       "      <th>TRB</th>\n",
       "      <th>gID</th>\n",
       "    </tr>\n",
       "  </thead>\n",
       "  <tbody>\n",
       "    <tr>\n",
       "      <th>0</th>\n",
       "      <td>Magic Johnson</td>\n",
       "      <td>15</td>\n",
       "      <td>7.0</td>\n",
       "      <td>0</td>\n",
       "      <td>10</td>\n",
       "      <td>10</td>\n",
       "      <td>197910280LAL</td>\n",
       "    </tr>\n",
       "    <tr>\n",
       "      <th>1</th>\n",
       "      <td>Magic Johnson</td>\n",
       "      <td>24</td>\n",
       "      <td>3.0</td>\n",
       "      <td>0</td>\n",
       "      <td>12</td>\n",
       "      <td>16</td>\n",
       "      <td>197911110LAL</td>\n",
       "    </tr>\n",
       "    <tr>\n",
       "      <th>2</th>\n",
       "      <td>Larry Bird</td>\n",
       "      <td>23</td>\n",
       "      <td>3.0</td>\n",
       "      <td>2</td>\n",
       "      <td>10</td>\n",
       "      <td>19</td>\n",
       "      <td>197911140BOS</td>\n",
       "    </tr>\n",
       "    <tr>\n",
       "      <th>3</th>\n",
       "      <td>George McGinnis</td>\n",
       "      <td>20</td>\n",
       "      <td>3.0</td>\n",
       "      <td>0</td>\n",
       "      <td>10</td>\n",
       "      <td>11</td>\n",
       "      <td>197911160DEN</td>\n",
       "    </tr>\n",
       "    <tr>\n",
       "      <th>4</th>\n",
       "      <td>Magic Johnson</td>\n",
       "      <td>20</td>\n",
       "      <td>6.0</td>\n",
       "      <td>0</td>\n",
       "      <td>11</td>\n",
       "      <td>11</td>\n",
       "      <td>197911160DEN</td>\n",
       "    </tr>\n",
       "  </tbody>\n",
       "</table>\n",
       "</div>"
      ],
      "text/plain": [
       "            Player  PTS  STL  BLK  AST  TRB           gID\n",
       "0    Magic Johnson   15  7.0    0   10   10  197910280LAL\n",
       "1    Magic Johnson   24  3.0    0   12   16  197911110LAL\n",
       "2       Larry Bird   23  3.0    2   10   19  197911140BOS\n",
       "3  George McGinnis   20  3.0    0   10   11  197911160DEN\n",
       "4    Magic Johnson   20  6.0    0   11   11  197911160DEN"
      ]
     },
     "execution_count": 3,
     "metadata": {},
     "output_type": "execute_result"
    }
   ],
   "source": [
    "td = pd.read_csv(\"triple_doubles_since_1979.csv\")\n",
    "td = pd.DataFrame(td)\n",
    "td.head()"
   ]
  },
  {
   "cell_type": "code",
   "execution_count": 10,
   "metadata": {},
   "outputs": [
    {
     "data": {
      "text/html": [
       "<div>\n",
       "<style scoped>\n",
       "    .dataframe tbody tr th:only-of-type {\n",
       "        vertical-align: middle;\n",
       "    }\n",
       "\n",
       "    .dataframe tbody tr th {\n",
       "        vertical-align: top;\n",
       "    }\n",
       "\n",
       "    .dataframe thead th {\n",
       "        text-align: right;\n",
       "    }\n",
       "</style>\n",
       "<table border=\"1\" class=\"dataframe\">\n",
       "  <thead>\n",
       "    <tr style=\"text-align: right;\">\n",
       "      <th></th>\n",
       "      <th>Player</th>\n",
       "      <th>PTS</th>\n",
       "      <th>STL</th>\n",
       "      <th>BLK</th>\n",
       "      <th>AST</th>\n",
       "      <th>TRB</th>\n",
       "      <th>gID</th>\n",
       "      <th>Year</th>\n",
       "    </tr>\n",
       "  </thead>\n",
       "  <tbody>\n",
       "    <tr>\n",
       "      <th>0</th>\n",
       "      <td>Magic Johnson</td>\n",
       "      <td>15</td>\n",
       "      <td>7.0</td>\n",
       "      <td>0</td>\n",
       "      <td>10</td>\n",
       "      <td>10</td>\n",
       "      <td>197910280LAL</td>\n",
       "      <td>1979</td>\n",
       "    </tr>\n",
       "    <tr>\n",
       "      <th>1</th>\n",
       "      <td>Magic Johnson</td>\n",
       "      <td>24</td>\n",
       "      <td>3.0</td>\n",
       "      <td>0</td>\n",
       "      <td>12</td>\n",
       "      <td>16</td>\n",
       "      <td>197911110LAL</td>\n",
       "      <td>1979</td>\n",
       "    </tr>\n",
       "    <tr>\n",
       "      <th>2</th>\n",
       "      <td>Larry Bird</td>\n",
       "      <td>23</td>\n",
       "      <td>3.0</td>\n",
       "      <td>2</td>\n",
       "      <td>10</td>\n",
       "      <td>19</td>\n",
       "      <td>197911140BOS</td>\n",
       "      <td>1979</td>\n",
       "    </tr>\n",
       "    <tr>\n",
       "      <th>3</th>\n",
       "      <td>George McGinnis</td>\n",
       "      <td>20</td>\n",
       "      <td>3.0</td>\n",
       "      <td>0</td>\n",
       "      <td>10</td>\n",
       "      <td>11</td>\n",
       "      <td>197911160DEN</td>\n",
       "      <td>1979</td>\n",
       "    </tr>\n",
       "    <tr>\n",
       "      <th>4</th>\n",
       "      <td>Magic Johnson</td>\n",
       "      <td>20</td>\n",
       "      <td>6.0</td>\n",
       "      <td>0</td>\n",
       "      <td>11</td>\n",
       "      <td>11</td>\n",
       "      <td>197911160DEN</td>\n",
       "      <td>1979</td>\n",
       "    </tr>\n",
       "  </tbody>\n",
       "</table>\n",
       "</div>"
      ],
      "text/plain": [
       "            Player  PTS  STL  BLK  AST  TRB           gID  Year\n",
       "0    Magic Johnson   15  7.0    0   10   10  197910280LAL  1979\n",
       "1    Magic Johnson   24  3.0    0   12   16  197911110LAL  1979\n",
       "2       Larry Bird   23  3.0    2   10   19  197911140BOS  1979\n",
       "3  George McGinnis   20  3.0    0   10   11  197911160DEN  1979\n",
       "4    Magic Johnson   20  6.0    0   11   11  197911160DEN  1979"
      ]
     },
     "execution_count": 10,
     "metadata": {},
     "output_type": "execute_result"
    }
   ],
   "source": [
    "td['Year'] = td['gID'].str[:4]\n",
    "td.head()"
   ]
  },
  {
   "cell_type": "code",
   "execution_count": 14,
   "metadata": {},
   "outputs": [
    {
     "name": "stdout",
     "output_type": "stream",
     "text": [
      "{'2019': 149, '2017': 124, '2018': 119, '2016': 98, '1989': 85, '1990': 63, '1987': 63, '2015': 61, '1988': 58, '1985': 56, '2020': 54, '2014': 48, '1986': 48, '1997': 48, '2006': 47, '2000': 47, '2013': 47, '2002': 46, '1984': 45, '2003': 43, '1996': 41, '1993': 41, '2007': 40, '1991': 39, '1995': 39, '1992': 38, '2012': 38, '2001': 37, '1982': 36, '2010': 36, '1983': 35, '2008': 34, '2004': 30, '2005': 30, '2009': 30, '1999': 29, '1994': 29, '2011': 27, '1980': 19, '1981': 17, '1998': 17, '1979': 13}\n"
     ]
    }
   ],
   "source": [
    "yr_counts = td['Year'].value_counts().to_dict()\n",
    "print(yr_counts)"
   ]
  },
  {
   "cell_type": "code",
   "execution_count": 18,
   "metadata": {},
   "outputs": [],
   "source": [
    "yr_json = json.dumps(yr_counts)\n",
    "with open(\"data/TripleDoubles_YearCounts.json\",\"w\") as json_file:\n",
    "    json_file.write(yr_json)\n",
    "    json_file.close()"
   ]
  },
  {
   "cell_type": "code",
   "execution_count": 33,
   "metadata": {},
   "outputs": [
    {
     "ename": "Exception",
     "evalue": "Data must be 1-dimensional",
     "output_type": "error",
     "traceback": [
      "\u001b[1;31m---------------------------------------------------------------------------\u001b[0m",
      "\u001b[1;31mException\u001b[0m                                 Traceback (most recent call last)",
      "\u001b[1;32m<ipython-input-33-1fd48390c6ea>\u001b[0m in \u001b[0;36m<module>\u001b[1;34m\u001b[0m\n\u001b[1;32m----> 1\u001b[1;33m \u001b[0mdf\u001b[0m \u001b[1;33m=\u001b[0m \u001b[0mpd\u001b[0m\u001b[1;33m.\u001b[0m\u001b[0mDataFrame\u001b[0m\u001b[1;33m(\u001b[0m\u001b[1;33m{\u001b[0m\u001b[1;34m'Timestamp'\u001b[0m\u001b[1;33m:\u001b[0m \u001b[0mtd\u001b[0m\u001b[1;33m.\u001b[0m\u001b[0mindex\u001b[0m\u001b[1;33m,\u001b[0m \u001b[1;34m'Category'\u001b[0m\u001b[1;33m:\u001b[0m \u001b[0mtd\u001b[0m\u001b[1;33m.\u001b[0m\u001b[0mvalues\u001b[0m\u001b[1;33m}\u001b[0m\u001b[1;33m)\u001b[0m\u001b[1;33m\u001b[0m\u001b[1;33m\u001b[0m\u001b[0m\n\u001b[0m\u001b[0;32m      2\u001b[0m \u001b[0mdf\u001b[0m\u001b[1;33m.\u001b[0m\u001b[0mhead\u001b[0m\u001b[1;33m(\u001b[0m\u001b[1;33m)\u001b[0m\u001b[1;33m\u001b[0m\u001b[1;33m\u001b[0m\u001b[0m\n",
      "\u001b[1;32m~\\AppData\\Local\\Continuum\\anaconda3\\lib\\site-packages\\pandas\\core\\frame.py\u001b[0m in \u001b[0;36m__init__\u001b[1;34m(self, data, index, columns, dtype, copy)\u001b[0m\n\u001b[0;32m    433\u001b[0m             )\n\u001b[0;32m    434\u001b[0m         \u001b[1;32melif\u001b[0m \u001b[0misinstance\u001b[0m\u001b[1;33m(\u001b[0m\u001b[0mdata\u001b[0m\u001b[1;33m,\u001b[0m \u001b[0mdict\u001b[0m\u001b[1;33m)\u001b[0m\u001b[1;33m:\u001b[0m\u001b[1;33m\u001b[0m\u001b[1;33m\u001b[0m\u001b[0m\n\u001b[1;32m--> 435\u001b[1;33m             \u001b[0mmgr\u001b[0m \u001b[1;33m=\u001b[0m \u001b[0minit_dict\u001b[0m\u001b[1;33m(\u001b[0m\u001b[0mdata\u001b[0m\u001b[1;33m,\u001b[0m \u001b[0mindex\u001b[0m\u001b[1;33m,\u001b[0m \u001b[0mcolumns\u001b[0m\u001b[1;33m,\u001b[0m \u001b[0mdtype\u001b[0m\u001b[1;33m=\u001b[0m\u001b[0mdtype\u001b[0m\u001b[1;33m)\u001b[0m\u001b[1;33m\u001b[0m\u001b[1;33m\u001b[0m\u001b[0m\n\u001b[0m\u001b[0;32m    436\u001b[0m         \u001b[1;32melif\u001b[0m \u001b[0misinstance\u001b[0m\u001b[1;33m(\u001b[0m\u001b[0mdata\u001b[0m\u001b[1;33m,\u001b[0m \u001b[0mma\u001b[0m\u001b[1;33m.\u001b[0m\u001b[0mMaskedArray\u001b[0m\u001b[1;33m)\u001b[0m\u001b[1;33m:\u001b[0m\u001b[1;33m\u001b[0m\u001b[1;33m\u001b[0m\u001b[0m\n\u001b[0;32m    437\u001b[0m             \u001b[1;32mimport\u001b[0m \u001b[0mnumpy\u001b[0m\u001b[1;33m.\u001b[0m\u001b[0mma\u001b[0m\u001b[1;33m.\u001b[0m\u001b[0mmrecords\u001b[0m \u001b[1;32mas\u001b[0m \u001b[0mmrecords\u001b[0m\u001b[1;33m\u001b[0m\u001b[1;33m\u001b[0m\u001b[0m\n",
      "\u001b[1;32m~\\AppData\\Local\\Continuum\\anaconda3\\lib\\site-packages\\pandas\\core\\internals\\construction.py\u001b[0m in \u001b[0;36minit_dict\u001b[1;34m(data, index, columns, dtype)\u001b[0m\n\u001b[0;32m    252\u001b[0m             \u001b[0marr\u001b[0m \u001b[1;32mif\u001b[0m \u001b[1;32mnot\u001b[0m \u001b[0mis_datetime64tz_dtype\u001b[0m\u001b[1;33m(\u001b[0m\u001b[0marr\u001b[0m\u001b[1;33m)\u001b[0m \u001b[1;32melse\u001b[0m \u001b[0marr\u001b[0m\u001b[1;33m.\u001b[0m\u001b[0mcopy\u001b[0m\u001b[1;33m(\u001b[0m\u001b[1;33m)\u001b[0m \u001b[1;32mfor\u001b[0m \u001b[0marr\u001b[0m \u001b[1;32min\u001b[0m \u001b[0marrays\u001b[0m\u001b[1;33m\u001b[0m\u001b[1;33m\u001b[0m\u001b[0m\n\u001b[0;32m    253\u001b[0m         ]\n\u001b[1;32m--> 254\u001b[1;33m     \u001b[1;32mreturn\u001b[0m \u001b[0marrays_to_mgr\u001b[0m\u001b[1;33m(\u001b[0m\u001b[0marrays\u001b[0m\u001b[1;33m,\u001b[0m \u001b[0mdata_names\u001b[0m\u001b[1;33m,\u001b[0m \u001b[0mindex\u001b[0m\u001b[1;33m,\u001b[0m \u001b[0mcolumns\u001b[0m\u001b[1;33m,\u001b[0m \u001b[0mdtype\u001b[0m\u001b[1;33m=\u001b[0m\u001b[0mdtype\u001b[0m\u001b[1;33m)\u001b[0m\u001b[1;33m\u001b[0m\u001b[1;33m\u001b[0m\u001b[0m\n\u001b[0m\u001b[0;32m    255\u001b[0m \u001b[1;33m\u001b[0m\u001b[0m\n\u001b[0;32m    256\u001b[0m \u001b[1;33m\u001b[0m\u001b[0m\n",
      "\u001b[1;32m~\\AppData\\Local\\Continuum\\anaconda3\\lib\\site-packages\\pandas\\core\\internals\\construction.py\u001b[0m in \u001b[0;36marrays_to_mgr\u001b[1;34m(arrays, arr_names, index, columns, dtype)\u001b[0m\n\u001b[0;32m     67\u001b[0m \u001b[1;33m\u001b[0m\u001b[0m\n\u001b[0;32m     68\u001b[0m     \u001b[1;31m# don't force copy because getting jammed in an ndarray anyway\u001b[0m\u001b[1;33m\u001b[0m\u001b[1;33m\u001b[0m\u001b[1;33m\u001b[0m\u001b[0m\n\u001b[1;32m---> 69\u001b[1;33m     \u001b[0marrays\u001b[0m \u001b[1;33m=\u001b[0m \u001b[0m_homogenize\u001b[0m\u001b[1;33m(\u001b[0m\u001b[0marrays\u001b[0m\u001b[1;33m,\u001b[0m \u001b[0mindex\u001b[0m\u001b[1;33m,\u001b[0m \u001b[0mdtype\u001b[0m\u001b[1;33m)\u001b[0m\u001b[1;33m\u001b[0m\u001b[1;33m\u001b[0m\u001b[0m\n\u001b[0m\u001b[0;32m     70\u001b[0m \u001b[1;33m\u001b[0m\u001b[0m\n\u001b[0;32m     71\u001b[0m     \u001b[1;31m# from BlockManager perspective\u001b[0m\u001b[1;33m\u001b[0m\u001b[1;33m\u001b[0m\u001b[1;33m\u001b[0m\u001b[0m\n",
      "\u001b[1;32m~\\AppData\\Local\\Continuum\\anaconda3\\lib\\site-packages\\pandas\\core\\internals\\construction.py\u001b[0m in \u001b[0;36m_homogenize\u001b[1;34m(data, index, dtype)\u001b[0m\n\u001b[0;32m    321\u001b[0m                 \u001b[0mval\u001b[0m \u001b[1;33m=\u001b[0m \u001b[0mlib\u001b[0m\u001b[1;33m.\u001b[0m\u001b[0mfast_multiget\u001b[0m\u001b[1;33m(\u001b[0m\u001b[0mval\u001b[0m\u001b[1;33m,\u001b[0m \u001b[0moindex\u001b[0m\u001b[1;33m.\u001b[0m\u001b[0mvalues\u001b[0m\u001b[1;33m,\u001b[0m \u001b[0mdefault\u001b[0m\u001b[1;33m=\u001b[0m\u001b[0mnp\u001b[0m\u001b[1;33m.\u001b[0m\u001b[0mnan\u001b[0m\u001b[1;33m)\u001b[0m\u001b[1;33m\u001b[0m\u001b[1;33m\u001b[0m\u001b[0m\n\u001b[0;32m    322\u001b[0m             val = sanitize_array(\n\u001b[1;32m--> 323\u001b[1;33m                 \u001b[0mval\u001b[0m\u001b[1;33m,\u001b[0m \u001b[0mindex\u001b[0m\u001b[1;33m,\u001b[0m \u001b[0mdtype\u001b[0m\u001b[1;33m=\u001b[0m\u001b[0mdtype\u001b[0m\u001b[1;33m,\u001b[0m \u001b[0mcopy\u001b[0m\u001b[1;33m=\u001b[0m\u001b[1;32mFalse\u001b[0m\u001b[1;33m,\u001b[0m \u001b[0mraise_cast_failure\u001b[0m\u001b[1;33m=\u001b[0m\u001b[1;32mFalse\u001b[0m\u001b[1;33m\u001b[0m\u001b[1;33m\u001b[0m\u001b[0m\n\u001b[0m\u001b[0;32m    324\u001b[0m             )\n\u001b[0;32m    325\u001b[0m \u001b[1;33m\u001b[0m\u001b[0m\n",
      "\u001b[1;32m~\\AppData\\Local\\Continuum\\anaconda3\\lib\\site-packages\\pandas\\core\\construction.py\u001b[0m in \u001b[0;36msanitize_array\u001b[1;34m(data, index, dtype, copy, raise_cast_failure)\u001b[0m\n\u001b[0;32m    480\u001b[0m     \u001b[1;32melif\u001b[0m \u001b[0msubarr\u001b[0m\u001b[1;33m.\u001b[0m\u001b[0mndim\u001b[0m \u001b[1;33m>\u001b[0m \u001b[1;36m1\u001b[0m\u001b[1;33m:\u001b[0m\u001b[1;33m\u001b[0m\u001b[1;33m\u001b[0m\u001b[0m\n\u001b[0;32m    481\u001b[0m         \u001b[1;32mif\u001b[0m \u001b[0misinstance\u001b[0m\u001b[1;33m(\u001b[0m\u001b[0mdata\u001b[0m\u001b[1;33m,\u001b[0m \u001b[0mnp\u001b[0m\u001b[1;33m.\u001b[0m\u001b[0mndarray\u001b[0m\u001b[1;33m)\u001b[0m\u001b[1;33m:\u001b[0m\u001b[1;33m\u001b[0m\u001b[1;33m\u001b[0m\u001b[0m\n\u001b[1;32m--> 482\u001b[1;33m             \u001b[1;32mraise\u001b[0m \u001b[0mException\u001b[0m\u001b[1;33m(\u001b[0m\u001b[1;34m\"Data must be 1-dimensional\"\u001b[0m\u001b[1;33m)\u001b[0m\u001b[1;33m\u001b[0m\u001b[1;33m\u001b[0m\u001b[0m\n\u001b[0m\u001b[0;32m    483\u001b[0m         \u001b[1;32melse\u001b[0m\u001b[1;33m:\u001b[0m\u001b[1;33m\u001b[0m\u001b[1;33m\u001b[0m\u001b[0m\n\u001b[0;32m    484\u001b[0m             \u001b[0msubarr\u001b[0m \u001b[1;33m=\u001b[0m \u001b[0mcom\u001b[0m\u001b[1;33m.\u001b[0m\u001b[0masarray_tuplesafe\u001b[0m\u001b[1;33m(\u001b[0m\u001b[0mdata\u001b[0m\u001b[1;33m,\u001b[0m \u001b[0mdtype\u001b[0m\u001b[1;33m=\u001b[0m\u001b[0mdtype\u001b[0m\u001b[1;33m)\u001b[0m\u001b[1;33m\u001b[0m\u001b[1;33m\u001b[0m\u001b[0m\n",
      "\u001b[1;31mException\u001b[0m: Data must be 1-dimensional"
     ]
    }
   ],
   "source": [
    "df = pd.DataFrame({'Player': td.index, 'Count': td.values})\n",
    "df.head()"
   ]
  },
  {
   "cell_type": "code",
   "execution_count": 31,
   "metadata": {},
   "outputs": [
    {
     "name": "stdout",
     "output_type": "stream",
     "text": [
      "{('Aaron Gordon', '2020'): 1, ('Aaron McKie', '2000'): 1, ('Aaron McKie', '2001'): 1, ('Adrian Dantley', '1982'): 1, ('Al Horford', '2015'): 1, ('Al Horford', '2019'): 1, ('Alex English', '1982'): 4, ('Alex English', '1984'): 1, ('Allen Iverson', '2002'): 1, ('Alvan Adams', '1983'): 1, ('Alvan Adams', '1985'): 3, ('Alvin Robertson', '1985'): 2, ('Alvin Robertson', '1986'): 2, ('Alvin Robertson', '1988'): 2, ('Alvin Robertson', '1989'): 2, ('Alvin Robertson', '1990'): 5, ('Alvin Williams', '2001'): 1, ('Andre Iguodala', '2005'): 1, ('Andre Iguodala', '2006'): 1, ('Andre Iguodala', '2007'): 2, ('Andre Iguodala', '2011'): 3, ('Andre Iguodala', '2012'): 1, ('Andre Iguodala', '2013'): 1, ('Andre Miller', '2000'): 1, ('Andre Miller', '2001'): 1, ('Andre Miller', '2002'): 2, ('Andre Miller', '2003'): 1, ('Andre Miller', '2004'): 1, ('Andre Miller', '2007'): 1, ('Andre Miller', '2008'): 1, ('Andre Miller', '2009'): 1, ('Andrei Kirilenko', '2006'): 2, ('Andrei Kirilenko', '2007'): 1, ('Andrew Bynum', '2012'): 1, ('Andrew Toney', '1985'): 1, ('Andrew Wiggins', '2020'): 1, ('Anfernee Hardaway', '1994'): 2, ('Anfernee Hardaway', '2000'): 2, ('Anfernee Hardaway', '2001'): 1, ('Anfernee Hardaway', '2003'): 1, ('Anthony Bowie', '1996'): 1, ('Anthony Davis', '2018'): 1, ('Anthony Mason', '1996'): 1, ('Anthony Mason', '1997'): 3, ('Anthony Mason', '2000'): 3, ('Antoine Walker', '1997'): 2, ('Antoine Walker', '1998'): 1, ('Antoine Walker', '2000'): 3, ('Antoine Walker', '2001'): 3, ('Antoine Walker', '2002'): 4, ('Antoine Walker', '2004'): 2, ('Artis Gilmore', '1985'): 1, ('Bam Adebayo', '2019'): 2, ('Bam Adebayo', '2020'): 1, ('Baron Davis', '2000'): 2, ('Baron Davis', '2002'): 3, ('Baron Davis', '2005'): 1, ('Baron Davis', '2006'): 1, ('Baron Davis', '2007'): 2, ('Baron Davis', '2008'): 2, ('Baron Davis', '2010'): 1, ('Ben Simmons', '2017'): 4, ('Ben Simmons', '2018'): 14, ('Ben Simmons', '2019'): 8, ('Ben Simmons', '2020'): 4, ('Ben Uzoh', '2012'): 1, ('Ben Wallace', '2002'): 2, ('Beno Udrih', '2010'): 1, ('Benoit Benjamin', '1989'): 1, ('Bernard King', '1985'): 1, ('Billy Owens', '1995'): 1, ('Blake Griffin', '2011'): 2, ('Blake Griffin', '2013'): 1, ('Blake Griffin', '2014'): 1, ('Blake Griffin', '2015'): 3, ('Blake Griffin', '2017'): 2, ('Blake Griffin', '2018'): 3, ('Blake Griffin', '2019'): 1, ('Blue Edwards', '1996'): 1, ('Bo Outlaw', '1998'): 1, ('Bo Outlaw', '2000'): 1, ('Bob Sura', '2004'): 2, ('Bobby Jackson', '2000'): 1, ('Bobby Phills', '1995'): 1, ('Boris Diaw', '2006'): 5, ('Boris Diaw', '2011'): 1, ('Brad Daugherty', '1986'): 1, ('Brad Daugherty', '1988'): 1, ('Brad Daugherty', '1992'): 2, ('Brad Miller', '2003'): 2, ('Brad Miller', '2007'): 1, ('Bradley Beal', '2018'): 1, ('Bradley Beal', '2019'): 1, ('Brandon Jennings', '2010'): 1, ('Brandon Knight', '2015'): 1, ('Brandon Roy', '2008'): 1, ('Brian Shaw', '1995'): 1, ('CJ McCollum', '2019'): 1, ('Caris LeVert', '2020'): 1, ('Carlos Boozer', '2008'): 1, ('Carmelo Anthony', '2007'): 1, ('Carmelo Anthony', '2012'): 1, ('Caron Butler', '2007'): 2, ('Caron Butler', '2008'): 1, ('Cedric Maxwell', '1988'): 1, ('Charles Barkley', '1986'): 4, ('Charles Barkley', '1987'): 3, ('Charles Barkley', '1989'): 2, ('Charles Barkley', '1990'): 2, ('Charles Barkley', '1991'): 1, ('Charles Barkley', '1992'): 2, ('Charles Barkley', '1993'): 7, ('Charles Barkley', '1995'): 1, ('Charles Barkley', '1996'): 1, ('Charles Barkley', '1997'): 1, ('Charles Oakley', '1987'): 2, ('Charles Oakley', '2000'): 1, ('Charlie Bell', '2006'): 1, ('Chauncey Billups', '2002'): 1, ('Chauncey Billups', '2004'): 1, ('Chris Childs', '1996'): 1, ('Chris Childs', '1997'): 1, ('Chris Duhon', '2005'): 1, ('Chris Morris', '1991'): 1, ('Chris Mullin', '1989'): 1, ('Chris Mullin', '1994'): 1, ('Chris Mullin', '1995'): 1, ('Chris Mullin', '1997'): 2, ('Chris Paul', '2006'): 3, ('Chris Paul', '2008'): 5, ('Chris Paul', '2009'): 4, ('Chris Paul', '2011'): 1, ('Chris Paul', '2014'): 1, ('Chris Paul', '2016'): 1, ('Chris Paul', '2017'): 1, ('Chris Paul', '2018'): 1, ('Chris Webber', '1993'): 1, ('Chris Webber', '1995'): 4, ('Chris Webber', '1996'): 1, ('Chris Webber', '1997'): 1, ('Chris Webber', '1999'): 3, ('Chris Webber', '2000'): 3, ('Chris Webber', '2001'): 1, ('Chris Webber', '2002'): 1, ('Chris Webber', '2003'): 2, ('Chris Webber', '2004'): 2, ('Chris Webber', '2005'): 3, ('Chuck Hayes', '2011'): 1, ('Chuck Person', '1986'): 1, ('Chuck Person', '1989'): 1, ('Clarence Weatherspoon', '1994'): 1, ('Cliff Robinson', '1986'): 1, ('Clyde Drexler', '1985'): 5, ('Clyde Drexler', '1986'): 3, ('Clyde Drexler', '1987'): 2, ('Clyde Drexler', '1989'): 4, ('Clyde Drexler', '1990'): 2, ('Clyde Drexler', '1991'): 4, ('Clyde Drexler', '1995'): 1, ('Clyde Drexler', '1996'): 3, ('Clyde Drexler', '1997'): 2, (\"D'Angelo Russell\", '2018'): 1, ('Damian Lillard', '2020'): 1, ('Damon Stoudamire', '1995'): 1, ('Damon Stoudamire', '1996'): 1, ('Damon Stoudamire', '1997'): 1, ('Damon Stoudamire', '2001'): 1, ('Damon Stoudamire', '2005'): 2, ('Dan Roundfield', '1983'): 1, ('Dana Barros', '1995'): 1, ('Danny Ainge', '1989'): 1, ('Danny Manning', '1993'): 1, ('Danny Schayes', '1982'): 1, ('Darrell Walker', '1989'): 4, ('Darrell Walker', '1990'): 9, ('Darrell Walker', '1991'): 2, ('Darren Collison', '2010'): 1, ('Dave Greenwood', '1987'): 1, ('David Lee', '2010'): 1, ('David Lee', '2012'): 2, ('David Robinson', '1990'): 4, ('David Robinson', '1991'): 2, ('David Robinson', '1992'): 2, ('David Robinson', '1993'): 4, ('David Robinson', '1994'): 3, ('David West', '2013'): 1, (\"De'Aaron Fox\", '2018'): 1, ('DeMar DeRozan', '2019'): 1, ('DeMarcus Cousins', '2012'): 1, ('DeMarcus Cousins', '2015'): 2, ('DeMarcus Cousins', '2016'): 1, ('DeMarcus Cousins', '2017'): 3, ('DeMarcus Cousins', '2018'): 2, ('Delon Wright', '2019'): 3, ('Dennis Johnson', '1988'): 1, ('Dennis Rodman', '1996'): 1, ('Dennis Smith', '2017'): 1, ('Dennis Smith', '2019'): 1, ('Derek Anderson', '1999'): 1, ('Derrick Coleman', '1991'): 1, ('Derrick Coleman', '1993'): 1, ('Derrick Coleman', '1994'): 2, ('Derrick McKey', '1995'): 1, ('Derrick Rose', '2011'): 1, ('Detlef Schrempf', '1987'): 1, ('Detlef Schrempf', '1991'): 1, ('Detlef Schrempf', '1992'): 2, ('Detlef Schrempf', '1993'): 3, ('Dikembe Mutombo', '1993'): 3, ('Dikembe Mutombo', '1994'): 3, ('Dikembe Mutombo', '1995'): 2, ('Dikembe Mutombo', '2000'): 1, ('Dikembe Mutombo', '2001'): 1, ('Dirk Nowitzki', '2008'): 1, ('Dirk Nowitzki', '2010'): 1, ('Doc Rivers', '1987'): 1, ('Doc Rivers', '1988'): 2, ('Doc Rivers', '1989'): 1, ('Domantas Sabonis', '2020'): 4, ('Draymond Green', '2015'): 7, ('Draymond Green', '2016'): 10, ('Draymond Green', '2017'): 5, ('Draymond Green', '2018'): 3, ('Draymond Green', '2019'): 8, ('Drew Gooden', '2011'): 1, ('Drew Gooden', '2012'): 1, ('Dwight Howard', '2008'): 1, ('Dwyane Wade', '2004'): 1, ('Dwyane Wade', '2006'): 2, ('Dwyane Wade', '2011'): 1, ('Dwyane Wade', '2019'): 1, ('Earl Watson', '2008'): 1, ('Eddie Johnson', '1985'): 1, ('Edgar Jones', '1981'): 1, ('Elfrid Payton', '2015'): 2, ('Elfrid Payton', '2016'): 1, ('Elfrid Payton', '2017'): 5, ('Elfrid Payton', '2018'): 3, ('Elfrid Payton', '2019'): 5, ('Elfrid Payton', '2020'): 1, ('Elton Brand', '2003'): 1, ('Elvin Hayes', '1984'): 1, ('Eric Bledsoe', '2014'): 2, ('Eric Bledsoe', '2017'): 1, ('Eric Bledsoe', '2018'): 1, ('Eric Bledsoe', '2019'): 1, ('Eric Snow', '2003'): 1, ('Evan Turner', '2015'): 3, ('Evan Turner', '2019'): 2, ('Fat Lever', '1985'): 2, ('Fat Lever', '1986'): 4, ('Fat Lever', '1987'): 17, ('Fat Lever', '1988'): 10, ('Fat Lever', '1989'): 9, ('Fat Lever', '1990'): 3, ('Foots Walker', '1979'): 1, ('Gary Grant', '1990'): 1, ('Gary Payton', '1991'): 2, ('Gary Payton', '1992'): 1, ('Gary Payton', '1996'): 1, ('Gary Payton', '1997'): 3, ('Gary Payton', '1999'): 1, ('Gary Payton', '2000'): 5, ('Gary Payton', '2001'): 1, ('Gary Payton', '2002'): 2, ('Gary Payton', '2004'): 1, ('Gene Banks', '1986'): 1, ('George Hill', '2015'): 1, ('George McGinnis', '1979'): 2, ('Giannis Antetokounmpo', '2016'): 7, ('Giannis Antetokounmpo', '2017'): 1, ('Giannis Antetokounmpo', '2018'): 4, ('Giannis Antetokounmpo', '2019'): 5, ('Giannis Antetokounmpo', '2020'): 1, ('Gilbert Arenas', '2003'): 1, ('Gilbert Arenas', '2004'): 2, ('Gilbert Arenas', '2009'): 1, ('Goran Dragić', '2011'): 1, ('Goran Dragić', '2019'): 1, ('Grant Hill', '1995'): 4, ('Grant Hill', '1996'): 8, ('Grant Hill', '1997'): 14, ('Grant Hill', '1998'): 2, ('Grant Hill', '1999'): 1, ('Greg Monroe', '2012'): 1, ('Greg Monroe', '2018'): 1, ('Greivis Vásquez', '2013'): 1, ('Gus Williams', '1981'): 1, ('Hakeem Olajuwon', '1986'): 1, ('Hakeem Olajuwon', '1987'): 1, ('Hakeem Olajuwon', '1988'): 1, ('Hakeem Olajuwon', '1989'): 2, ('Hakeem Olajuwon', '1990'): 4, ('Hakeem Olajuwon', '1994'): 2, ('Hakeem Olajuwon', '1995'): 2, ('Hakeem Olajuwon', '1996'): 1, ('Hakeem Olajuwon', '1997'): 1, ('Hassan Whiteside', '2015'): 2, ('Hassan Whiteside', '2016'): 2, ('Hedo Türkoğlu', '2008'): 2, ('Hedo Türkoğlu', '2011'): 1, ('Hersey Hawkins', '1993'): 1, ('Isaiah Thomas', '2014'): 1, ('Isiah Thomas', '1983'): 1, ('Isiah Thomas', '1985'): 2, ('Isiah Thomas', '1986'): 2, ('Isiah Thomas', '1987'): 1, ('Isiah Thomas', '1989'): 1, ('J.J. Barea', '2012'): 1, ('Ja Morant', '2020'): 2, ('JaVale McGee', '2011'): 1, ('Jack Sikma', '1984'): 2, ('Jalen Rose', '2003'): 1, ('Jamaal Tinsley', '2001'): 1, ('Jamaal Tinsley', '2002'): 1, ('Jamal Mashburn', '2001'): 1, ('Jamal Mashburn', '2003'): 2, ('James Harden', '2013'): 1, ('James Harden', '2014'): 2, ('James Harden', '2015'): 4, ('James Harden', '2016'): 11, ('James Harden', '2017'): 17, ('James Harden', '2018'): 6, ('James Harden', '2019'): 4, ('James Harden', '2020'): 4, ('James Posey', '2002'): 1, ('James Worthy', '1988'): 1, ('Jarrett Jack', '2012'): 1, ('Jarrett Jack', '2018'): 1, ('Jason Kidd', '1995'): 5, ('Jason Kidd', '1996'): 8, ('Jason Kidd', '1997'): 3, ('Jason Kidd', '1998'): 3, ('Jason Kidd', '1999'): 11, ('Jason Kidd', '2000'): 6, ('Jason Kidd', '2001'): 5, ('Jason Kidd', '2002'): 12, ('Jason Kidd', '2003'): 9, ('Jason Kidd', '2004'): 4, ('Jason Kidd', '2005'): 10, ('Jason Kidd', '2006'): 13, ('Jason Kidd', '2007'): 15, ('Jason Kidd', '2008'): 7, ('Jason Kidd', '2009'): 2, ('Jason Kidd', '2010'): 3, ('Jason Kidd', '2011'): 1, ('Jason Terry', '2003'): 1, ('Jay Williams', '2002'): 1, ('Jeff Hornacek', '1989'): 1, ('Jeff Hornacek', '1991'): 1, ('Jeff McInnis', '2001'): 1, ('Jeff Ruland', '1984'): 4, ('Jeff Ruland', '1985'): 2, ('Jeremy Lin', '2014'): 1, (\"Jermaine O'Neal\", '2003'): 1, ('Jerome Kersey', '1989'): 1, ('Jerry Stackhouse', '2001'): 1, ('Jim Jackson', '1997'): 2, ('Jimmy Butler', '2016'): 2, ('Jimmy Butler', '2017'): 2, ('Jimmy Butler', '2019'): 3, ('Joakim Noah', '2012'): 2, ('Joakim Noah', '2013'): 1, ('Joakim Noah', '2014'): 4, ('Joe Johnson', '2006'): 1, ('Joe Johnson', '2008'): 1, ('Joel Embiid', '2018'): 1, ('Joel Embiid', '2019'): 1, ('John Bagley', '1985'): 2, ('John Bagley', '1988'): 1, ('John Lucas', '1984'): 1, ('John Salmons', '2006'): 1, ('John Stockton', '2001'): 1, ('John Wall', '2010'): 1, ('John Wall', '2014'): 2, ('John Wall', '2016'): 4, ('John Williams', '1989'): 1, ('John Williams', '1991'): 1, ('Johnny Moore', '1982'): 1, ('Johnny Moore', '1984'): 2, ('Johnny Moore', '1985'): 4, ('Jonas Valančiūnas', '2020'): 1, ('Jordan Crawford', '2011'): 1, ('Jordan Crawford', '2012'): 1, ('Jordan Crawford', '2013'): 1, ('Josh Smith', '2008'): 1, ('Josh Smith', '2010'): 2, ('José Calderón', '2012'): 2, ('Jrue Holiday', '2011'): 1, ('Jrue Holiday', '2013'): 1, ('Jrue Holiday', '2018'): 2, ('Jrue Holiday', '2020'): 1, ('Julius Erving', '1979'): 1, ('Julius Randle', '2016'): 2, ('Julius Randle', '2017'): 2, ('Julius Randle', '2018'): 2, ('Jusuf Nurkić', '2019'): 1, ('Kareem Abdul-Jabbar', '1979'): 1, ('Kareem Abdul-Jabbar', '1980'): 1, ('Kareem Abdul-Jabbar', '1982'): 1, ('Karl Malone', '1996'): 1, ('Karl Malone', '1997'): 1, ('Karl Malone', '1999'): 1, ('Karl Malone', '2003'): 1, ('Karl-Anthony Towns', '2016'): 1, ('Kawhi Leonard', '2020'): 1, ('Kemba Walker', '2012'): 1, ('Kemba Walker', '2014'): 1, ('Ken Norman', '1989'): 1, ('Kendall Gill', '1995'): 2, ('Kenny Anderson', '1992'): 2, ('Kenny Anderson', '1993'): 2, ('Kenny Anderson', '1994'): 1, ('Kenyon Martin', '2001'): 1, ('Kevin Durant', '2012'): 1, ('Kevin Durant', '2013'): 3, ('Kevin Durant', '2014'): 2, ('Kevin Durant', '2015'): 1, ('Kevin Durant', '2016'): 1, ('Kevin Durant', '2017'): 1, ('Kevin Durant', '2018'): 4, ('Kevin Gamble', '1993'): 1, ('Kevin Garnett', '1998'): 1, ('Kevin Garnett', '1999'): 1, ('Kevin Garnett', '2000'): 3, ('Kevin Garnett', '2001'): 1, ('Kevin Garnett', '2002'): 3, ('Kevin Garnett', '2003'): 4, ('Kevin Garnett', '2004'): 2, ('Kevin Garnett', '2005'): 1, ('Kevin Garnett', '2007'): 3, ('Kevin Johnson', '1988'): 3, ('Kevin Johnson', '1989'): 3, ('Kevin Johnson', '1990'): 2, ('Kevin Johnson', '1992'): 1, ('Kevin Johnson', '1996'): 1, ('Kevin Johnson', '1997'): 2, ('Kevin Love', '2014'): 3, ('Khris Middleton', '2018'): 1, ('Kirk Hinrich', '2004'): 1, ('Kirk Hinrich', '2007'): 1, ('Kobe Bryant', '2001'): 2, ('Kobe Bryant', '2002'): 5, ('Kobe Bryant', '2003'): 1, ('Kobe Bryant', '2004'): 5, ('Kobe Bryant', '2005'): 1, ('Kobe Bryant', '2009'): 2, ('Kobe Bryant', '2010'): 1, ('Kobe Bryant', '2012'): 1, ('Kobe Bryant', '2013'): 1, ('Kobe Bryant', '2014'): 2, ('Kyle Anderson', '2019'): 1, ('Kyle Lowry', '2011'): 1, ('Kyle Lowry', '2012'): 1, ('Kyle Lowry', '2013'): 1, ('Kyle Lowry', '2014'): 3, ('Kyle Lowry', '2015'): 1, ('Kyle Lowry', '2016'): 1, ('Kyle Lowry', '2017'): 3, ('Kyle Lowry', '2018'): 2, ('Kyle Lowry', '2019'): 2, ('Kyle Lowry', '2020'): 1, ('Kyrie Irving', '2014'): 1, ('Kyrie Irving', '2019'): 2, ('Lamar Odom', '1999'): 1, ('Lamar Odom', '2000'): 3, ('Lamar Odom', '2001'): 3, ('Lamar Odom', '2004'): 1, ('Lamar Odom', '2006'): 2, ('Lamar Odom', '2007'): 1, ('Lamar Odom', '2008'): 1, ('Lance Stephenson', '2013'): 3, ('Lance Stephenson', '2014'): 2, ('Larry Bird', '1979'): 1, ('Larry Bird', '1980'): 1, ('Larry Bird', '1981'): 2, ('Larry Bird', '1982'): 4, ('Larry Bird', '1983'): 6, ('Larry Bird', '1984'): 7, ('Larry Bird', '1985'): 7, ('Larry Bird', '1986'): 11, ('Larry Bird', '1987'): 6, ('Larry Bird', '1988'): 2, ('Larry Bird', '1989'): 5, ('Larry Bird', '1990'): 8, ('Larry Bird', '1991'): 2, ('Larry Bird', '1992'): 1, ('Larry Hughes', '2004'): 1, ('Larry Johnson', '1993'): 3, ('Larry Johnson', '1995'): 1, ('Larry Johnson', '1996'): 1, ('Larry Nance', '1985'): 1, ('Larry Nance', '1988'): 1, ('Larry Nance', '1992'): 1, ('Larry Sanders', '2012'): 1, ('Latrell Sprewell', '1997'): 1, ('Latrell Sprewell', '2003'): 1, ('LeBron James', '2005'): 5, ('LeBron James', '2006'): 6, ('LeBron James', '2007'): 5, ('LeBron James', '2008'): 4, ('LeBron James', '2009'): 10, ('LeBron James', '2010'): 7, ('LeBron James', '2011'): 2, ('LeBron James', '2012'): 2, ('LeBron James', '2013'): 6, ('LeBron James', '2014'): 1, ('LeBron James', '2015'): 5, ('LeBron James', '2016'): 8, ('LeBron James', '2017'): 20, ('LeBron James', '2018'): 18, ('LeBron James', '2019'): 12, ('LeBron James', '2020'): 6, ('Lester Conner', '1989'): 3, ('Lewis Lloyd', '1983'): 1, ('Lewis Lloyd', '1986'): 1, ('Lionel Simmons', '1991'): 1, ('Lionel Simmons', '1994'): 1, ('Lonzo Ball', '2017'): 2, ('Lonzo Ball', '2018'): 1, ('Lonzo Ball', '2019'): 1, ('Lonzo Ball', '2020'): 2, ('Lou Williams', '2019'): 1, ('Luka Dončić', '2019'): 17, ('Luka Dončić', '2020'): 8, ('Magic Johnson', '1979'): 3, ('Magic Johnson', '1980'): 9, ('Magic Johnson', '1981'): 8, ('Magic Johnson', '1982'): 15, ('Magic Johnson', '1983'): 14, ('Magic Johnson', '1984'): 22, ('Magic Johnson', '1985'): 7, ('Magic Johnson', '1986'): 5, ('Magic Johnson', '1987'): 16, ('Magic Johnson', '1988'): 16, ('Magic Johnson', '1989'): 14, ('Magic Johnson', '1990'): 13, ('Magic Johnson', '1991'): 11, ('Magic Johnson', '1996'): 1, ('Malcolm Brogdon', '2016'): 1, ('Manute Bol', '1987'): 1, ('Marc Gasol', '2015'): 1, ('Marc Gasol', '2016'): 1, ('Marc Gasol', '2017'): 1, ('Marc Gasol', '2018'): 1, ('Marc Gasol', '2019'): 1, ('Marcus Camby', '1998'): 2, ('Marcus Camby', '2007'): 1, ('Marcus Camby', '2008'): 1, ('Marcus Smart', '2016'): 1, ('Mario Hezonja', '2019'): 1, ('Mark Aguirre', '1983'): 1, ('Mark Aguirre', '1985'): 1, ('Mark Eaton', '1983'): 1, ('Mark Eaton', '1984'): 1, ('Mark Eaton', '1985'): 3, ('Mark Eaton', '1986'): 1, ('Mark Jackson', '1988'): 2, ('Mark Jackson', '1989'): 2, ('Mark Jackson', '1991'): 2, ('Mark Jackson', '1992'): 2, ('Mark Jackson', '1993'): 1, ('Mark Jackson', '1994'): 1, ('Mark Jackson', '1997'): 4, ('Mark Jackson', '1998'): 1, ('Mark Jackson', '1999'): 1, ('Mark Jackson', '2000'): 2, ('Mark Jackson', '2002'): 1, ('Mark Price', '1990'): 1, ('Markelle Fultz', '2018'): 1, ('Markelle Fultz', '2020'): 1, ('Marques Johnson', '1980'): 2, ('Marques Johnson', '1983'): 2, ('Matt Barnes', '2016'): 1, ('Maurice Cheeks', '1986'): 1, ('Maurice Cheeks', '1988'): 1, ('Michael Adams', '1991'): 1, ('Michael Brooks', '1983'): 1, ('Michael Carter-Williams', '2013'): 1, ('Michael Carter-Williams', '2014'): 3, ('Michael Carter-Williams', '2015'): 1, ('Michael Finley', '1998'): 1, ('Michael Finley', '1999'): 3, ('Michael Finley', '2000'): 2, ('Michael Jordan', '1985'): 3, ('Michael Jordan', '1988'): 2, ('Michael Jordan', '1989'): 16, ('Michael Jordan', '1990'): 1, ('Michael Jordan', '1991'): 1, ('Michael Jordan', '1992'): 4, ('Michael Jordan', '1993'): 2, ('Michael Jordan', '1997'): 1, ('Micheal Ray Richardson', '1979'): 1, ('Micheal Ray Richardson', '1980'): 4, ('Micheal Ray Richardson', '1981'): 3, ('Micheal Ray Richardson', '1982'): 4, ('Micheal Ray Richardson', '1985'): 3, ('Micheal Williams', '1992'): 3, ('Mickey Johnson', '1980'): 2, ('Mickey Johnson', '1983'): 1, ('Mike Bibby', '2000'): 1, ('Mike Bibby', '2005'): 1, ('Mike Miller', '2006'): 1, ('Mike Mitchell', '1986'): 1, ('Mitch Richmond', '1992'): 1, ('Mitch Richmond', '1994'): 1, ('Mitch Richmond', '1997'): 1, ('Mo Williams', '2006'): 1, ('Mookie Blaylock', '1993'): 1, ('Mookie Blaylock', '1994'): 4, ('Mookie Blaylock', '1995'): 1, ('Mookie Blaylock', '1998'): 1, ('Mookie Blaylock', '1999'): 1, ('Mookie Blaylock', '2001'): 1, ('Mychal Thompson', '1983'): 1, ('Mychal Thompson', '1984'): 1, ('Nate McMillan', '1988'): 1, ('Nate McMillan', '1989'): 3, ('Nick Anderson', '1992'): 1, ('Nicolas Batum', '2013'): 3, ('Nicolas Batum', '2014'): 1, ('Nicolas Batum', '2015'): 1, ('Nicolas Batum', '2016'): 2, ('Nicolas Batum', '2018'): 2, ('Nikola Jokić', '2017'): 6, ('Nikola Jokić', '2018'): 12, ('Nikola Jokić', '2019'): 21, ('Nikola Jokić', '2020'): 6, ('Nikola Vučević', '2017'): 1, ('Nikola Vučević', '2018'): 1, ('Oliver Miller', '1994'): 1, ('Orlando Woolridge', '1987'): 1, ('Otis Thorpe', '1989'): 1, ('Otis Thorpe', '1992'): 2, ('Patrick Ewing', '1996'): 1, ('Pau Gasol', '2006'): 1, ('Pau Gasol', '2007'): 1, ('Pau Gasol', '2009'): 1, ('Pau Gasol', '2010'): 1, ('Pau Gasol', '2012'): 1, ('Pau Gasol', '2013'): 3, ('Pau Gasol', '2016'): 2, ('Pau Gasol', '2017'): 1, ('Paul George', '2013'): 2, ('Paul George', '2014'): 1, ('Paul George', '2019'): 1, ('Paul Millsap', '2014'): 1, ('Paul Pierce', '2003'): 3, ('Paul Pierce', '2005'): 2, ('Paul Pierce', '2006'): 1, ('Paul Pierce', '2010'): 1, ('Paul Pierce', '2013'): 3, ('Paul Pressey', '1985'): 1, ('Paul Pressey', '1986'): 4, ('Paul Pressey', '1987'): 2, ('Pooh Richardson', '1992'): 1, ('Pooh Richardson', '1995'): 1, ('Purvis Short', '1981'): 1, ('Rafer Alston', '2009'): 1, ('Rajon Rondo', '2008'): 1, ('Rajon Rondo', '2009'): 4, ('Rajon Rondo', '2010'): 5, ('Rajon Rondo', '2011'): 3, ('Rajon Rondo', '2012'): 11, ('Rajon Rondo', '2013'): 4, ('Rajon Rondo', '2014'): 4, ('Rajon Rondo', '2015'): 4, ('Rajon Rondo', '2016'): 3, ('Rajon Rondo', '2017'): 1, ('Rajon Rondo', '2018'): 1, ('Rajon Rondo', '2019'): 1, ('Ralph Sampson', '1983'): 1, ('Ralph Sampson', '1986'): 1, ('Ramon Sessions', '2009'): 1, ('Ray Allen', '2001'): 1, ('Ray Allen', '2003'): 1, ('Ray Allen', '2004'): 1, ('Ray Williams', '1982'): 1, ('Ray Williams', '1983'): 1, ('Ray Williams', '1984'): 1, ('Raymond Felton', '2011'): 1, ('Raymond Felton', '2015'): 1, ('Reggie Jackson', '2015'): 2, ('Reggie Miller', '1991'): 1, ('Reggie Theus', '1979'): 1, ('Reggie Theus', '1986'): 1, ('Reggie Williams', '1995'): 1, ('Rich Kelley', '1982'): 2, ('Richard Jefferson', '2003'): 1, ('Rickey Green', '1984'): 1, ('Ricky Rubio', '2013'): 2, ('Ricky Rubio', '2014'): 1, ('Ricky Rubio', '2015'): 1, ('Ricky Rubio', '2017'): 1, ('Ricky Rubio', '2018'): 1, ('Ricky Rubio', '2019'): 1, ('Ricky Rubio', '2020'): 1, ('Robert Pack', '1994'): 1, ('Robert Pack', '2001'): 1, ('Robert Parish', '1987'): 1, ('Rod Strickland', '1992'): 1, ('Rod Strickland', '1995'): 1, ('Rod Strickland', '1998'): 3, ('Rod Strickland', '1999'): 1, ('Rodney McCray', '1986'): 1, ('Rodney McCray', '1987'): 2, ('Rodney McCray', '1988'): 1, ('Rodney McCray', '1989'): 1, ('Rodney McCray', '1992'): 1, ('Rodney White', '2003'): 1, ('Ron Harper', '1989'): 1, ('Ron Harper', '1992'): 1, ('Ron Harper', '1994'): 2, ('Rory Sparrow', '1989'): 1, ('Roy Hibbert', '2012'): 1, ('Rumeal Robinson', '1993'): 2, ('Russell Westbrook', '2009'): 1, ('Russell Westbrook', '2010'): 2, ('Russell Westbrook', '2011'): 3, ('Russell Westbrook', '2013'): 2, ('Russell Westbrook', '2014'): 4, ('Russell Westbrook', '2015'): 14, ('Russell Westbrook', '2016'): 32, ('Russell Westbrook', '2017'): 41, ('Russell Westbrook', '2018'): 23, ('Russell Westbrook', '2019'): 32, ('Russell Westbrook', '2020'): 2, ('Ryan Gomes', '2006'): 1, ('Sam Cassell', '2002'): 1, ('Sam Cassell', '2003'): 1, ('Sam Cassell', '2004'): 1, ('Sam Lacey', '1979'): 1, ('Sam Lacey', '1981'): 1, ('Sam Perkins', '1993'): 1, ('Sam Vincent', '1990'): 1, ('Scott Skiles', '1990'): 1, ('Scott Skiles', '1992'): 1, ('Scottie Pippen', '1989'): 1, ('Scottie Pippen', '1990'): 3, ('Scottie Pippen', '1991'): 2, ('Scottie Pippen', '1992'): 4, ('Scottie Pippen', '1993'): 5, ('Scottie Pippen', '1995'): 3, ('Scottie Pippen', '1996'): 1, ('Scottie Pippen', '1999'): 2, ('Serge Ibaka', '2012'): 1, ('Shabazz Napier', '2020'): 1, ('Shai Gilgeous-Alexander', '2020'): 1, (\"Shaquille O'Neal\", '1993'): 1, (\"Shaquille O'Neal\", '2006'): 1, ('Shareef Abdur-Rahim', '1997'): 1, ('Shawn Bradley', '1996'): 4, ('Shawn Bradley', '1997'): 1, ('Shawn Bradley', '1998'): 1, ('Shawn Kemp', '1994'): 1, ('Sherman Douglas', '1996'): 1, ('Sidney Moncrief', '1983'): 1, ('Sidney Moncrief', '1984'): 1, ('Sidney Moncrief', '1985'): 3, ('Sleepy Floyd', '1987'): 1, ('Stephen Curry', '2010'): 1, ('Stephen Curry', '2013'): 2, ('Stephen Curry', '2014'): 2, ('Stephen Curry', '2015'): 1, ('Stephen Curry', '2016'): 1, ('Stephen Curry', '2017'): 1, ('Stephen Curry', '2019'): 1, ('Stephen Jackson', '2009'): 1, ('Stephen Jackson', '2010'): 1, ('Stephon Marbury', '2001'): 1, ('Steve Blake', '2010'): 1, ('Steve Blake', '2014'): 1, ('Steve Francis', '2000'): 1, ('Steve Francis', '2001'): 2, ('Steve Francis', '2002'): 2, ('Steve Francis', '2003'): 1, ('Steve Francis', '2004'): 1, ('Steve Francis', '2006'): 1, ('Steve Nash', '2003'): 1, ('Steve Nash', '2005'): 2, ('Steve Nash', '2006'): 1, ('Steve Smith', '1993'): 1, ('Steve Stipanovich', '1985'): 1, ('T.J. McConnell', '2018'): 1, ('Terrell Brandon', '2000'): 1, ('Terrell Brandon', '2001'): 1, ('Terrence Williams', '2010'): 1, ('Terry Cummings', '1987'): 1, ('Terry Porter', '1987'): 3, ('Terry Porter', '1988'): 3, ('Terry Porter', '1989'): 1, ('Terry Rozier', '2018'): 1, ('Tim Duncan', '2000'): 1, ('Tim Duncan', '2002'): 1, ('Tim Duncan', '2003'): 3, ('Tim Duncan', '2008'): 1, ('Tim Duncan', '2010'): 1, ('Tim Duncan', '2014'): 1, ('Tim Frazier', '2016'): 1, ('Tim Hardaway', '1990'): 3, ('Tim Hardaway', '1992'): 1, ('Tom Gugliotta', '1992'): 1, ('Tomáš Satoranský', '2019'): 1, ('Toni Kukoč', '1995'): 1, ('Toni Kukoč', '2000'): 1, ('Toni Kukoč', '2001'): 2, ('Tony Parker', '2012'): 1, ('Tony Wroten', '2013'): 1, ('Tracy McGrady', '2002'): 1, ('Tracy McGrady', '2003'): 1, ('Tracy McGrady', '2007'): 1, ('Tracy McGrady', '2008'): 1, ('Trae Young', '2019'): 2, ('Trae Young', '2020'): 1, ('Tree Rollins', '1982'): 2, ('Tree Rollins', '1983'): 1, ('Trevor Ariza', '2010'): 1, ('Ty Lawson', '2017'): 1, ('Tyreke Evans', '2010'): 1, ('Tyreke Evans', '2013'): 1, ('Tyreke Evans', '2015'): 1, ('Tyrone Corbin', '1991'): 1, ('Vern Fleming', '1986'): 1, ('Vern Fleming', '1988'): 4, ('Victor Oladipo', '2013'): 1, ('Victor Oladipo', '2015'): 1, ('Victor Oladipo', '2018'): 1, ('Vin Baker', '1995'): 1, ('Vince Carter', '2000'): 1, ('Vince Carter', '2006'): 1, ('Vince Carter', '2007'): 2, ('Vince Carter', '2009'): 1, ('Vlade Divac', '1994'): 2, ('Vlade Divac', '1995'): 1, ('Vlade Divac', '1996'): 1, ('Vlade Divac', '1999'): 1, ('Vlade Divac', '2000'): 1, ('Vlade Divac', '2002'): 1, ('Vlade Divac', '2004'): 1, ('Wes Unseld', '1979'): 1, ('Willie Anderson', '1991'): 1, ('Winston Garland', '1988'): 2, ('Zach Randolph', '2016'): 1}\n"
     ]
    }
   ],
   "source": [
    "player = td.groupby([\"Player\", \"Year\"]).size().to_dict()"
   ]
  },
  {
   "cell_type": "code",
   "execution_count": null,
   "metadata": {},
   "outputs": [],
   "source": []
  }
 ],
 "metadata": {
  "kernelspec": {
   "display_name": "Python 3",
   "language": "python",
   "name": "python3"
  },
  "language_info": {
   "codemirror_mode": {
    "name": "ipython",
    "version": 3
   },
   "file_extension": ".py",
   "mimetype": "text/x-python",
   "name": "python",
   "nbconvert_exporter": "python",
   "pygments_lexer": "ipython3",
   "version": "3.7.4"
  }
 },
 "nbformat": 4,
 "nbformat_minor": 4
}
