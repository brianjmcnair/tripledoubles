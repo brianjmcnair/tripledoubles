{
 "cells": [
  {
   "cell_type": "code",
   "execution_count": 75,
   "metadata": {},
   "outputs": [],
   "source": [
    "import requests\n",
    "from bs4 import BeautifulSoup\n",
    "import pandas\n",
    "YEARS = range(1980, 2021)\n",
    "MONTHS = [\"october\", \"november\", \"december\", \"january\", \"february\", \"march\", \"april\", \"may\", \"june\", \"july\", \"august\"]"
   ]
  },
  {
   "cell_type": "code",
   "execution_count": 69,
   "metadata": {},
   "outputs": [],
   "source": [
    "links = []\n",
    "for year in YEARS:\n",
    "    for month in MONTHS:\n",
    "        url = \"https://www.basketball-reference.com/leagues/NBA_\" + str(year) + \"_games-\" + month + \".html\"\n",
    "        src = requests.get(url)\n",
    "        soup = BeautifulSoup(src.content, \"lxml\")\n",
    "        games = soup.find_all('td', {'data-stat': 'box_score_text'})\n",
    "        links.extend(games)"
   ]
  },
  {
   "cell_type": "code",
   "execution_count": 73,
   "metadata": {},
   "outputs": [],
   "source": [
    "urls = []\n",
    "for link in links:\n",
    "    url = link.find('a')\n",
    "    if url != None:    \n",
    "        urls.append(url['href'])"
   ]
  },
  {
   "cell_type": "code",
   "execution_count": 77,
   "metadata": {},
   "outputs": [],
   "source": [
    "pandas.DataFrame(urls).to_csv(\"gameLinks.csv\")"
   ]
  }
 ],
 "metadata": {
  "kernelspec": {
   "display_name": "Python 3",
   "language": "python",
   "name": "python3"
  },
  "language_info": {
   "codemirror_mode": {
    "name": "ipython",
    "version": 3
   },
   "file_extension": ".py",
   "mimetype": "text/x-python",
   "name": "python",
   "nbconvert_exporter": "python",
   "pygments_lexer": "ipython3",
   "version": "3.6.5"
  }
 },
 "nbformat": 4,
 "nbformat_minor": 2
}
